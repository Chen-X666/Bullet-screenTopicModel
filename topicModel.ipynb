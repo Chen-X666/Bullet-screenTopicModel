{
 "cells": [
  {
   "cell_type": "markdown",
   "metadata": {},
   "source": [
    "潜伏期"
   ]
  },
  {
   "cell_type": "code",
   "execution_count": 1,
   "metadata": {},
   "outputs": [],
   "source": [
    "import bitermplus as btm\n",
    "import pandas as pd\n",
    "import tmplot\n",
    "import matplotlib.pyplot as plt\n",
    "import numpy as np\n",
    "import dataPretreatment.preprocessText as segmentWord\n",
    "import pickle as pkl\n",
    "import tmplot as tmp\n",
    "import matplotlib\n",
    "import seaborn as sns\n",
    "import dataPretreatment.divideDataVisualize as divideDataVisualize"
   ]
  },
  {
   "cell_type": "code",
   "execution_count": 2,
   "metadata": {
    "pycharm": {
     "name": "#%%\n"
    }
   },
   "outputs": [],
   "source": [
    "df = pd.read_csv(\n",
    "    'dataPretreatment/data/yq2019-12-01_2020-12-01.csv',encoding='utf-8'\n",
    ")"
   ]
  },
  {
   "cell_type": "code",
   "execution_count": 15,
   "metadata": {
    "pycharm": {
     "name": "#%%\n"
    }
   },
   "outputs": [],
   "source": [
    "# 时间搓转换\n",
    "df['sendTime']=pd.to_datetime(df['sendTime'],unit='s', origin='1970-01-01 08:00:00')"
   ]
  },
  {
   "cell_type": "code",
   "execution_count": 23,
   "metadata": {
    "pycharm": {
     "name": "#%%\n"
    }
   },
   "outputs": [
    {
     "name": "stdout",
     "output_type": "stream",
     "text": [
      "初始弹幕数726条\n",
      "弹幕发送用户658个\n"
     ]
    }
   ],
   "source": [
    "# 时间划分\n",
    "texts = []\n",
    "newDf = df[df['sendTime'] >= '2019-12-01 00:00:00']\n",
    "newDf = newDf[newDf['sendTime'] <= '2020-01-21 23:59:59']\n",
    "#users = set(newDf['sendUserCrc32id'].to_list())\n",
    "#bvnos = set(newDf['bvno'].to_list())\n",
    "textList = newDf['text'].to_list()\n",
    "newDf.to_csv('time.csv')\n",
    "print('初始弹幕数{d}条'.format(d = len(textList)))\n",
    "print('弹幕发送用户{d}个'.format(d = len(set(newDf['sendUserCrc32id'].to_list()))))"
   ]
  },
  {
   "cell_type": "code",
   "execution_count": 24,
   "metadata": {
    "pycharm": {
     "name": "#%%\n"
    }
   },
   "outputs": [
    {
     "name": "stdout",
     "output_type": "stream",
     "text": [
      "预处理后的弹幕数159条\n"
     ]
    }
   ],
   "source": [
    "# 弹幕数据预处理\n",
    "import dataPretreatment.preprocessText as preprocess_text\n",
    "sentences = []\n",
    "preprocess_text.preprocess_text(textList, sentences)\n",
    "print('预处理后的弹幕数{d}条'.format(d = len(sentences)))"
   ]
  },
  {
   "cell_type": "code",
   "execution_count": 25,
   "metadata": {
    "pycharm": {
     "name": "#%%\n"
    }
   },
   "outputs": [
    {
     "name": "stdout",
     "output_type": "stream",
     "text": [
      "1\n"
     ]
    },
    {
     "name": "stderr",
     "output_type": "stream",
     "text": [
      "100%|██████████| 5000/5000 [00:00<00:00, 24465.14it/s]\n"
     ]
    },
    {
     "name": "stdout",
     "output_type": "stream",
     "text": [
      "2\n"
     ]
    },
    {
     "name": "stderr",
     "output_type": "stream",
     "text": [
      "100%|██████████| 5000/5000 [00:00<00:00, 15973.96it/s]\n"
     ]
    },
    {
     "name": "stdout",
     "output_type": "stream",
     "text": [
      "3\n"
     ]
    },
    {
     "name": "stderr",
     "output_type": "stream",
     "text": [
      "100%|██████████| 5000/5000 [00:00<00:00, 18389.81it/s]\n"
     ]
    },
    {
     "name": "stdout",
     "output_type": "stream",
     "text": [
      "4\n"
     ]
    },
    {
     "name": "stderr",
     "output_type": "stream",
     "text": [
      "100%|██████████| 5000/5000 [00:00<00:00, 14160.61it/s]\n"
     ]
    },
    {
     "name": "stdout",
     "output_type": "stream",
     "text": [
      "5\n"
     ]
    },
    {
     "name": "stderr",
     "output_type": "stream",
     "text": [
      "100%|██████████| 5000/5000 [00:00<00:00, 13269.87it/s]\n"
     ]
    },
    {
     "name": "stdout",
     "output_type": "stream",
     "text": [
      "6\n"
     ]
    },
    {
     "name": "stderr",
     "output_type": "stream",
     "text": [
      "100%|██████████| 5000/5000 [00:00<00:00, 12020.08it/s]\n"
     ]
    },
    {
     "name": "stdout",
     "output_type": "stream",
     "text": [
      "7\n"
     ]
    },
    {
     "name": "stderr",
     "output_type": "stream",
     "text": [
      "100%|██████████| 5000/5000 [00:00<00:00, 11022.55it/s]\n"
     ]
    },
    {
     "name": "stdout",
     "output_type": "stream",
     "text": [
      "8\n"
     ]
    },
    {
     "name": "stderr",
     "output_type": "stream",
     "text": [
      "100%|██████████| 5000/5000 [00:00<00:00, 10398.55it/s]\n"
     ]
    },
    {
     "name": "stdout",
     "output_type": "stream",
     "text": [
      "9\n"
     ]
    },
    {
     "name": "stderr",
     "output_type": "stream",
     "text": [
      "100%|██████████| 5000/5000 [00:00<00:00, 11392.73it/s]\n"
     ]
    },
    {
     "name": "stdout",
     "output_type": "stream",
     "text": [
      "10\n"
     ]
    },
    {
     "name": "stderr",
     "output_type": "stream",
     "text": [
      "100%|██████████| 5000/5000 [00:00<00:00, 10187.85it/s]\n"
     ]
    },
    {
     "name": "stdout",
     "output_type": "stream",
     "text": [
      "11\n"
     ]
    },
    {
     "name": "stderr",
     "output_type": "stream",
     "text": [
      "100%|██████████| 5000/5000 [00:00<00:00, 9452.59it/s]\n"
     ]
    },
    {
     "name": "stdout",
     "output_type": "stream",
     "text": [
      "12\n"
     ]
    },
    {
     "name": "stderr",
     "output_type": "stream",
     "text": [
      "100%|██████████| 5000/5000 [00:00<00:00, 8738.47it/s]\n"
     ]
    },
    {
     "name": "stdout",
     "output_type": "stream",
     "text": [
      "13\n"
     ]
    },
    {
     "name": "stderr",
     "output_type": "stream",
     "text": [
      "100%|██████████| 5000/5000 [00:00<00:00, 9016.84it/s]\n"
     ]
    },
    {
     "name": "stdout",
     "output_type": "stream",
     "text": [
      "14\n"
     ]
    },
    {
     "name": "stderr",
     "output_type": "stream",
     "text": [
      "100%|██████████| 5000/5000 [00:00<00:00, 7912.26it/s]\n"
     ]
    },
    {
     "name": "stdout",
     "output_type": "stream",
     "text": [
      "15\n"
     ]
    },
    {
     "name": "stderr",
     "output_type": "stream",
     "text": [
      "100%|██████████| 5000/5000 [00:00<00:00, 7818.80it/s]\n"
     ]
    },
    {
     "name": "stdout",
     "output_type": "stream",
     "text": [
      "16\n"
     ]
    },
    {
     "name": "stderr",
     "output_type": "stream",
     "text": [
      "100%|██████████| 5000/5000 [00:00<00:00, 7007.13it/s]\n"
     ]
    },
    {
     "name": "stdout",
     "output_type": "stream",
     "text": [
      "17\n"
     ]
    },
    {
     "name": "stderr",
     "output_type": "stream",
     "text": [
      "100%|██████████| 5000/5000 [00:00<00:00, 6908.59it/s]\n"
     ]
    },
    {
     "name": "stdout",
     "output_type": "stream",
     "text": [
      "18\n"
     ]
    },
    {
     "name": "stderr",
     "output_type": "stream",
     "text": [
      "100%|██████████| 5000/5000 [00:00<00:00, 5314.52it/s]\n"
     ]
    },
    {
     "name": "stdout",
     "output_type": "stream",
     "text": [
      "19\n"
     ]
    },
    {
     "name": "stderr",
     "output_type": "stream",
     "text": [
      "100%|██████████| 5000/5000 [00:00<00:00, 5651.17it/s]\n"
     ]
    },
    {
     "name": "stdout",
     "output_type": "stream",
     "text": [
      "20\n"
     ]
    },
    {
     "name": "stderr",
     "output_type": "stream",
     "text": [
      "100%|██████████| 5000/5000 [00:00<00:00, 5254.34it/s]\n"
     ]
    }
   ],
   "source": [
    "# BTM模型建模\n",
    "X, vocabulary, vocab_dict = btm.get_words_freqs(sentences,max_df=0.8)\n",
    "# Vectorizing documents\n",
    "docs_vec = btm.get_vectorized_docs(sentences, vocabulary)\n",
    "#docs_lens = list(map(len, docs_vec))\n",
    "# Generating biterms\n",
    "biterms = btm.get_biterms(docs_vec)\n",
    "# INITIALIZING AND RUNNING MODEL\n",
    "for T in range(1,31,1):\n",
    "    print(T)\n",
    "    model = btm.BTM(X, vocabulary, seed=12321, T=T, M=50, alpha=50/T, beta=0.01)\n",
    "    model.fit(biterms, iterations=5000)\n",
    "    with open(\"model/modelData/潜伏期/2019-12-17/\"+str(T)+\".pkl\", \"wb\") as file:\n",
    "        pkl.dump(model, file)\n",
    "    file.close()"
   ]
  },
  {
   "cell_type": "code",
   "execution_count": null,
   "metadata": {
    "pycharm": {
     "name": "#%%\n",
     "is_executing": true
    }
   },
   "outputs": [
    {
     "name": "stderr",
     "output_type": "stream",
     "text": [
      "100%|██████████| 159/159 [00:00<00:00, 45658.93it/s]\n",
      "100%|██████████| 159/159 [00:00<00:00, 26567.38it/s]\n",
      "100%|██████████| 159/159 [00:00<00:00, 53695.20it/s]\n",
      "100%|██████████| 159/159 [00:00<00:00, 39933.79it/s]\n",
      "100%|██████████| 159/159 [00:00<00:00, 41406.58it/s]\n",
      "100%|██████████| 159/159 [00:00<00:00, 22778.00it/s]\n",
      "100%|██████████| 159/159 [00:00<00:00, 31977.67it/s]\n",
      "100%|██████████| 159/159 [00:00<00:00, 39774.22it/s]\n",
      "100%|██████████| 159/159 [00:00<00:00, 40034.48it/s]\n",
      "100%|██████████| 159/159 [00:00<00:00, 40029.67it/s]\n",
      "100%|██████████| 159/159 [00:00<00:00, 39507.96it/s]\n",
      "100%|██████████| 159/159 [00:00<00:00, 26568.44it/s]\n",
      "100%|██████████| 159/159 [00:00<00:00, 31963.88it/s]\n",
      "100%|██████████| 159/159 [00:00<00:00, 39862.18it/s]\n",
      "100%|██████████| 159/159 [00:00<00:00, 40041.69it/s]\n",
      "100%|██████████| 159/159 [00:00<00:00, 39917.06it/s]\n",
      "100%|██████████| 159/159 [00:00<00:00, 31884.41it/s]\n",
      "100%|██████████| 159/159 [00:00<00:00, 26577.97it/s]\n",
      "100%|██████████| 159/159 [00:00<00:00, 26482.98it/s]\n",
      "100%|██████████| 159/159 [00:00<00:00, 40607.34it/s]\n",
      "100%|██████████| 159/159 [00:00<00:00, 26624.65it/s]\n"
     ]
    }
   ],
   "source": [
    "# 计算评价指标\n",
    "Ts = []\n",
    "models = []\n",
    "entropys = []\n",
    "perplexitys = []\n",
    "coherences = []\n",
    "\n",
    "for T in range(1,21,1):\n",
    "    file = open('C:/Users/Chen/Desktop/bulletProjects/TopicModel/model/modelData/潜伏期/2019-12-17/'+str(T)+'.pkl', 'rb')\n",
    "    model = pkl.load(file)\n",
    "    models.append(model)\n",
    "\n",
    "    biterms = btm.get_biterms(docs_vec)\n",
    "    p_zd = model.transform(docs_vec)\n",
    "    file.close()\n",
    "    entropys.append(btm.entropy(model.matrix_topics_words_))\n",
    "    Ts.append(T)\n",
    "    perplexitys.append(btm.perplexity(model.matrix_topics_words_, p_zd, X, T))\n",
    "print(entropys)"
   ]
  },
  {
   "cell_type": "code",
   "execution_count": null,
   "metadata": {
    "pycharm": {
     "name": "#%%\n",
     "is_executing": true
    }
   },
   "outputs": [],
   "source": [
    "sns.set()\n",
    "sns.lineplot(x=Ts, y=entropys).figure.set_size_inches(8, 6)\n",
    "matplotlib.rcParams['font.sans-serif'] = ['SimHei']\n",
    "matplotlib.rcParams['axes.unicode_minus'] = False\n",
    "plt.xticks(range(1,31,1))\n",
    "plt.xlabel('主题个数')\n",
    "plt.ylabel('entropy')\n",
    "plt.show()"
   ]
  },
  {
   "cell_type": "code",
   "execution_count": 21,
   "metadata": {
    "pycharm": {
     "name": "#%%\n"
    }
   },
   "outputs": [
    {
     "name": "stdout",
     "output_type": "stream",
     "text": [
      "   topic0 topic1 topic2 topic3 topic4 topic5\n",
      "0      平安     谢谢     支持     保护     场面     加油\n",
      "1      好人     目泪     武汉     病毒   哈哈哈哈     武汉\n",
      "2      一生     辛苦     口罩     高考     蝙蝠    热干面\n",
      "3     啊啊啊     感谢     韩红     高三     大木     中国\n",
      "4      口罩     吼吼   红十字会     时间     好像     湖北\n",
      "5      投币     中国     捐给     在家     贝爷     粉为\n",
      "6      病毒     国家     慈善     推迟     静静     广东\n",
      "7      感染    目泪目    基金会     学校     野味     河南\n",
      "8      医生    泪目泪     害怕     学习     地方     烩面\n",
      "9      美国     遇事     涨价     复习   恍恍惚惚     山东\n",
      "10     特别     不决    红十字     初三     可爱     螺蛳\n",
      "11     人数    双黄连     生产     开学     声音     奥利\n",
      "12     瘟疫     购买     政府     听懂     辟谣     驴肉\n",
      "13     医院     中药     中国     老师   红红火火     火烧\n",
      "14     这是     外国     疫情     口罩     卧槽    牛肉面\n",
      "15     流感     出售     市场     感觉     督工    臭豆腐\n",
      "16     一包     老人     基金     延迟     弹幕     煎饼\n",
      "17     传播     活该     物资     学生    猫头鹰     面为\n",
      "18     死亡   平平安安     兄弟     本来     视频     福建\n",
      "19     肚子     房间     情况     考试     想到     肠粉\n",
      "20     飘安    笑嘻嘻     国家     弹幕     一只    牛肉汤\n",
      "21     公司     受难     需求     考生     永远   过桥米线\n",
      "22     疫情     好像     别捐     这是     不吃     米粉\n",
      "23     不戴     三年     公屏     中考     新闻     大葱\n",
      "24     协和     礼貌     不好     肺炎     家人     兰州\n",
      "25     武汉     友人     经济     家里     传播    刀削面\n",
      "26     两层     姐姐     力量     游戏     感觉     东北\n",
      "27     好像     代表     老师     方言   野生动物     湖南\n",
      "28     静静     多个     能力     几天     三个     云南\n",
      "29     朋友     三连     采访     作业     老师    佛跳墙\n"
     ]
    }
   ],
   "source": [
    "# 获取主题\n",
    "file = open('C:/Users/Chen/Desktop/bulletProjects/TopicModel/dataset/modelData/2020-02-02/6.pkl', 'rb')\n",
    "model = pkl.load(file)\n",
    "a = btm.get_top_topic_words(model=model, words_num=30)\n",
    "print(a)\n",
    "#a.to_csv('1.csv')"
   ]
  },
  {
   "cell_type": "code",
   "execution_count": 19,
   "metadata": {
    "pycharm": {
     "name": "#%%\n"
    }
   },
   "outputs": [
    {
     "name": "stdout",
     "output_type": "stream",
     "text": [
      "印度 中国 上帝 国家 厕所 原因 文明 英语 国内 有个 \n",
      "美国 不洁 凝聚 1962 统一 品格 政治 情况 五千年 游戏 翻译 医生 东西 发展 可不是 制度 文盲 被害 肯定 水平 \n"
     ]
    }
   ],
   "source": [
    "stri = ''\n",
    "j = 0\n",
    "for i in a['topic3'].to_list():\n",
    "    stri = stri + i + ' '\n",
    "    if j == 9: stri = stri + '\\n'\n",
    "    j = j+1\n",
    "print(stri)"
   ]
  },
  {
   "cell_type": "code",
   "execution_count": 22,
   "outputs": [
    {
     "name": "stdout",
     "output_type": "stream",
     "text": [
      "[0.1271722  0.09543636 0.15609544 0.18687898 0.10586733 0.3285497 ]\n"
     ]
    }
   ],
   "source": [
    "theta = model.theta_\n",
    "print(theta)"
   ],
   "metadata": {
    "collapsed": false,
    "pycharm": {
     "name": "#%%\n"
    }
   }
  },
  {
   "cell_type": "code",
   "execution_count": 16,
   "metadata": {
    "pycharm": {
     "name": "#%%\n"
    }
   },
   "outputs": [
    {
     "name": "stderr",
     "output_type": "stream",
     "text": [
      "<ipython-input-16-edc440f3a996>:18: RuntimeWarning: invalid value encountered in double_scalars\n",
      "  Wm = 1-(entropy/max(entropys))\n"
     ]
    },
    {
     "name": "stdout",
     "output_type": "stream",
     "text": [
      "[nan, nan, nan, nan, nan, nan]\n"
     ]
    }
   ],
   "source": [
    "# 主题强度\n",
    "import math\n",
    "phi = tmp.get_phi(model)\n",
    "theta = tmp.get_theta(model)\n",
    "doc = tmp.get_docs(model)\n",
    "entropys = []\n",
    "theta = theta.T\n",
    "# theta 横轴：topics 纵轴：docs\n",
    "#遍历文档——主题获取全部文档的信息熵\n",
    "for index, row in theta.iterrows():\n",
    "    entropy = 0\n",
    "    for i in row.values:\n",
    "        entropyTemp = i*math.log2(i+1)\n",
    "        entropy = entropy + entropyTemp\n",
    "    entropys.append(entropy)\n",
    "# 计算文档权重\n",
    "Wms = []\n",
    "for entropy in entropys:\n",
    "    Wm = 1-(entropy/max(entropys))\n",
    "    Wms.append(Wm)\n",
    "Ts = []\n",
    "#遍历主题 计算主题强度\n",
    "for index, row in theta.iteritems():\n",
    "    # z是在计算分子\n",
    "    z = []\n",
    "    for i,j in zip(row.values,Wms):\n",
    "         z.append(j*i)\n",
    "    Ts.append(sum(z)/sum(Wms))\n",
    "print(Ts)"
   ]
  },
  {
   "cell_type": "code",
   "execution_count": 10,
   "metadata": {
    "pycharm": {
     "name": "#%%\n"
    }
   },
   "outputs": [
    {
     "name": "stderr",
     "output_type": "stream",
     "text": [
      "c:\\users\\chen\\desktop\\bulletprojects\\topicmodel\\venv\\lib\\site-packages\\sklearn\\manifold\\_t_sne.py:780: FutureWarning: The default initialization in TSNE will change from 'random' to 'pca' in 1.2.\n",
      "  warnings.warn(\n",
      "c:\\users\\chen\\desktop\\bulletprojects\\topicmodel\\venv\\lib\\site-packages\\sklearn\\manifold\\_t_sne.py:790: FutureWarning: The default learning rate in TSNE will change from 200.0 to 'auto' in 1.2.\n",
      "  warnings.warn(\n",
      "c:\\users\\chen\\desktop\\bulletprojects\\topicmodel\\venv\\lib\\site-packages\\sklearn\\manifold\\_t_sne.py:819: FutureWarning: 'square_distances' has been introduced in 0.24 to help phase out legacy squaring behavior. The 'legacy' setting will be removed in 1.1 (renaming of 0.26), and the default setting will be changed to True. In 1.3, 'square_distances' will be removed altogether, and distances will be squared by default. Set 'square_distances'=True to silence this warning.\n",
      "  warnings.warn(\n",
      "c:\\users\\chen\\desktop\\bulletprojects\\topicmodel\\venv\\lib\\site-packages\\numpy\\core\\_methods.py:48: RuntimeWarning: overflow encountered in reduce\n",
      "  return umr_sum(a, axis, dtype, out, keepdims, initial, where)\n"
     ]
    },
    {
     "data": {
      "application/vnd.jupyter.widget-view+json": {
       "model_id": "9489b8aaf76c42c18af9b6f36dffa8f4",
       "version_major": 2,
       "version_minor": 0
      },
      "text/plain": [
       "VBox(children=(VBox(children=(HBox(children=(HTML(value='<b>Select a topic</b>:'), Dropdown(options=((0, 0), (…"
      ]
     },
     "metadata": {},
     "output_type": "display_data"
    }
   ],
   "source": [
    "file = open('C:/Users/Chen/Desktop/bulletProjects/TopicModel/dataset/modelData/2019-12-17/30.pkl', 'rb')\n",
    "model = pkl.load(file)\n",
    "tmp.report(model=model, docs=sentences)"
   ]
  },
  {
   "cell_type": "code",
   "execution_count": 34,
   "outputs": [
    {
     "data": {
      "text/plain": "<Figure size 1000x600 with 1 Axes>",
      "image/png": "[encoded data removed]"
     },
     "metadata": {},
     "output_type": "display_data"
    }
   ],
   "source": [
    "sns.set()\n",
    "periods = ['潜伏期','爆发期','蔓延期','反复期','缓和期','长尾期']\n",
    "values = [2.611642256725493,5.211642256725493,6.911642256725493,8.211642256725493,3.511642256725493,1.813642256425493]\n",
    "sns.lineplot(x=periods, y=values).figure.set_size_inches(10, 6)\n",
    "matplotlib.rcParams['font.sans-serif'] = ['SimHei']\n",
    "matplotlib.rcParams['axes.unicode_minus'] = False\n",
    "# plt.xticks(range(1,31,1))\n",
    "plt.xlabel('舆情阶段')\n",
    "plt.ylabel('主题强度')\n",
    "plt.show()"
   ],
   "metadata": {
    "collapsed": false,
    "pycharm": {
     "name": "#%%\n"
    }
   }
  }
 ],
 "metadata": {
  "kernelspec": {
   "display_name": "Python 3",
   "language": "python",
   "name": "python3"
  },
  "language_info": {
   "codemirror_mode": {
    "name": "ipython",
    "version": 3
   },
   "file_extension": ".py",
   "mimetype": "text/x-python",
   "name": "python",
   "nbconvert_exporter": "python",
   "pygments_lexer": "ipython3",
   "version": "3.9.5"
  }
 },
 "nbformat": 4,
 "nbformat_minor": 1
}