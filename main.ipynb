{
 "cells": [
  {
   "cell_type": "markdown",
   "source": [
    "加载训练好的模型+再训练模型"
   ],
   "metadata": {
    "collapsed": false
   }
  },
  {
   "cell_type": "code",
   "execution_count": 1,
   "outputs": [
    {
     "data": {
      "text/plain": "<module 'dataPretreatment.sen2vec.word2vec.algorithms.Word2VecModel' from 'C:\\\\Users\\\\Chen\\\\Desktop\\\\bulletProjects\\\\TopicModel\\\\dataPretreatment\\\\sen2vec\\\\word2vec\\\\algorithms\\\\Word2VecModel.py'>"
     },
     "execution_count": 1,
     "metadata": {},
     "output_type": "execute_result"
    }
   ],
   "source": [
    "#reload模块\n",
    "import dataPretreatment.sen2vec.word2vec.algorithms.Word2VecModel as Word2VecModel\n",
    "import importlib\n",
    "importlib.reload(Word2VecModel)"
   ],
   "metadata": {
    "collapsed": false,
    "pycharm": {
     "name": "#%%\n"
    }
   }
  },
  {
   "cell_type": "code",
   "execution_count": 2,
   "outputs": [
    {
     "name": "stdout",
     "output_type": "stream",
     "text": [
      "创建额外语料训练数据\n",
      "SELECT `text` FROM bilibili_bullet.yiqing_bullet_table WHERE bvno='BV117411671H' AND sendUserCrc32id='10365390' AND sendTime=1580721847\n"
     ]
    },
    {
     "name": "stderr",
     "output_type": "stream",
     "text": [
      "Building prefix dict from C:\\Users\\Chen\\Desktop\\bulletProjects\\TopicModel\\dataPretreatment\\sen2vec\\word2vec\\gen\\dict.txt ...\n",
      "Loading model from cache C:\\Users\\Chen\\AppData\\Local\\Temp\\jieba.u2691e3fe1e39c9cc4d6a0e6dddd8eb18.cache\n",
      "Loading model cost 0.807 seconds.\n",
      "Prefix dict has been built successfully.\n"
     ]
    }
   ],
   "source": [
    "#获取训练语料\n",
    "Word2VecModel.w2v_model.get_train_data()"
   ],
   "metadata": {
    "collapsed": false,
    "pycharm": {
     "name": "#%%\n"
    }
   }
  },
  {
   "cell_type": "code",
   "execution_count": 3,
   "outputs": [
    {
     "name": "stdout",
     "output_type": "stream",
     "text": [
      "初始模型加载完毕\n",
      "额外语料训练\n",
      "额外语料训练完毕\n"
     ]
    }
   ],
   "source": [
    "#训练语料\n",
    "Word2VecModel.w2v_model.train_model()"
   ],
   "metadata": {
    "collapsed": false,
    "pycharm": {
     "name": "#%%\n"
    }
   }
  },
  {
   "cell_type": "code",
   "execution_count": 3,
   "outputs": [
    {
     "name": "stdout",
     "output_type": "stream",
     "text": [
      "载入词嵌入模型\n",
      "词嵌入模型加载完毕\n"
     ]
    }
   ],
   "source": [
    "#加载新模型\n",
    "Word2VecModel.w2v_model.load_model()"
   ],
   "metadata": {
    "collapsed": false,
    "pycharm": {
     "name": "#%%\n"
    }
   }
  },
  {
   "cell_type": "code",
   "execution_count": 42,
   "outputs": [
    {
     "name": "stdout",
     "output_type": "stream",
     "text": [
      "256\n"
     ]
    }
   ],
   "source": [
    "#测试词向量\n",
    "textData = Word2VecModel.w2v_model.get_sentence_embedding(\"不知不觉\")\n",
    "print(len(textData))"
   ],
   "metadata": {
    "collapsed": false,
    "pycharm": {
     "name": "#%%\n"
    }
   }
  },
  {
   "cell_type": "markdown",
   "source": [
    "弹幕去噪音"
   ],
   "metadata": {
    "collapsed": false
   }
  },
  {
   "cell_type": "code",
   "execution_count": null,
   "outputs": [],
   "source": [
    "#获取数据\n",
    "import pandas as pd\n",
    "pd.read_csv('')"
   ],
   "metadata": {
    "collapsed": false,
    "pycharm": {
     "name": "#%%\n"
    }
   }
  },
  {
   "cell_type": "code",
   "execution_count": 5,
   "outputs": [
    {
     "name": "stderr",
     "output_type": "stream",
     "text": [
      "Building prefix dict from C:\\Users\\Chen\\Desktop\\bulletProjects\\TopicModel\\dataPretreatment\\sen2vec\\word2vec\\gen\\dict.txt ...\n",
      "Loading model from cache C:\\Users\\Chen\\AppData\\Local\\Temp\\jieba.u2691e3fe1e39c9cc4d6a0e6dddd8eb18.cache\n",
      "Loading model cost 0.982 seconds.\n",
      "Prefix dict has been built successfully.\n"
     ]
    },
    {
     "name": "stdout",
     "output_type": "stream",
     "text": [
      "['不知不觉', '间', '我', '已经', '忘记', '了', '爱']\n"
     ]
    }
   ],
   "source": [
    "import jieba\n",
    "a = jieba.lcut('不知不觉间我已经忘记了爱')\n",
    "print(a)"
   ],
   "metadata": {
    "collapsed": false,
    "pycharm": {
     "name": "#%%\n"
    }
   }
  },
  {
   "cell_type": "code",
   "execution_count": null,
   "outputs": [],
   "source": [],
   "metadata": {
    "collapsed": false,
    "pycharm": {
     "name": "#%%\n"
    }
   }
  }
 ],
 "metadata": {
  "kernelspec": {
   "display_name": "Python 3",
   "language": "python",
   "name": "python3"
  },
  "language_info": {
   "codemirror_mode": {
    "name": "ipython",
    "version": 2
   },
   "file_extension": ".py",
   "mimetype": "text/x-python",
   "name": "python",
   "nbconvert_exporter": "python",
   "pygments_lexer": "ipython2",
   "version": "2.7.6"
  }
 },
 "nbformat": 4,
 "nbformat_minor": 0
}